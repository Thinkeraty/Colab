{
  "nbformat": 4,
  "nbformat_minor": 0,
  "metadata": {
    "colab": {
      "name": "Confusion Matrix.ipynb",
      "provenance": [],
      "collapsed_sections": [],
      "authorship_tag": "ABX9TyN/DHDemmja8UvJqsD1u1fg",
      "include_colab_link": true
    },
    "kernelspec": {
      "name": "python3",
      "display_name": "Python 3"
    }
  },
  "cells": [
    {
      "cell_type": "markdown",
      "metadata": {
        "id": "view-in-github",
        "colab_type": "text"
      },
      "source": [
        "<a href=\"https://colab.research.google.com/github/Thinkeraty/Colab/blob/main/Confusion_Matrix.ipynb\" target=\"_parent\"><img src=\"https://colab.research.google.com/assets/colab-badge.svg\" alt=\"Open In Colab\"/></a>"
      ]
    },
    {
      "cell_type": "code",
      "metadata": {
        "id": "6XeuLyiZfAMd"
      },
      "source": [
        "import pandas as pd\r\n",
        "import seaborn as sns\r\n",
        "import matplotlib.pyplot as plt"
      ],
      "execution_count": null,
      "outputs": []
    },
    {
      "cell_type": "code",
      "metadata": {
        "id": "k5AAMj1fg46s"
      },
      "source": [
        "df = pd.read_csv('https://raw.githubusercontent.com/whitehatjr/datasets/master/c117/heart.csv')"
      ],
      "execution_count": null,
      "outputs": []
    },
    {
      "cell_type": "code",
      "metadata": {
        "colab": {
          "base_uri": "https://localhost:8080/"
        },
        "id": "BTXNBslphARe",
        "outputId": "aa769ce5-89a3-4c0c-f5b7-18b41e4aee4a"
      },
      "source": [
        "print(df.head())"
      ],
      "execution_count": null,
      "outputs": [
        {
          "output_type": "stream",
          "text": [
            "   age  sex  cp  trestbps  chol  fbs  ...  exang  oldpeak  slope  ca  thal  target\n",
            "0   63    1   3       145   233    1  ...      0      2.3      0   0     1       1\n",
            "1   37    1   2       130   250    0  ...      0      3.5      0   0     2       1\n",
            "2   41    0   1       130   204    0  ...      0      1.4      2   0     2       1\n",
            "3   56    1   1       120   236    0  ...      0      0.8      2   0     2       1\n",
            "4   57    0   0       120   354    0  ...      1      0.6      2   0     2       1\n",
            "\n",
            "[5 rows x 14 columns]\n"
          ],
          "name": "stdout"
        }
      ]
    },
    {
      "cell_type": "code",
      "metadata": {
        "id": "qP4LeSMmhPLJ"
      },
      "source": [
        "from sklearn.model_selection import train_test_split\r\n",
        "age = df[\"age\"]\r\n",
        "heart_attack = df[\"target\"]\r\n",
        "age_train, age_test, heart_attack_train, heart_attack_test = train_test_split(age, heart_attack, test_size=0.25, random_state=0)"
      ],
      "execution_count": null,
      "outputs": []
    },
    {
      "cell_type": "code",
      "metadata": {
        "colab": {
          "base_uri": "https://localhost:8080/"
        },
        "id": "UWHfDDFciU_Q",
        "outputId": "88a2ae14-0475-4c83-fe19-74cdb98c8c3b"
      },
      "source": [
        "from sklearn.linear_model import LogisticRegression\r\n",
        "import numpy as np\r\n",
        "X = np.reshape(age_train.ravel(), (len(age_train), 1))\r\n",
        "Y = np.reshape(heart_attack_train.ravel(), (len(heart_attack_train), 1))\r\n",
        "classifier= LogisticRegression(random_state=0)\r\n",
        "classifier.fit(X, Y)"
      ],
      "execution_count": null,
      "outputs": [
        {
          "output_type": "stream",
          "text": [
            "/usr/local/lib/python3.6/dist-packages/sklearn/utils/validation.py:760: DataConversionWarning: A column-vector y was passed when a 1d array was expected. Please change the shape of y to (n_samples, ), for example using ravel().\n",
            "  y = column_or_1d(y, warn=True)\n"
          ],
          "name": "stderr"
        },
        {
          "output_type": "execute_result",
          "data": {
            "text/plain": [
              "LogisticRegression(C=1.0, class_weight=None, dual=False, fit_intercept=True,\n",
              "                   intercept_scaling=1, l1_ratio=None, max_iter=100,\n",
              "                   multi_class='auto', n_jobs=None, penalty='l2',\n",
              "                   random_state=0, solver='lbfgs', tol=0.0001, verbose=0,\n",
              "                   warm_start=False)"
            ]
          },
          "metadata": {
            "tags": []
          },
          "execution_count": 7
        }
      ]
    },
    {
      "cell_type": "code",
      "metadata": {
        "id": "iiT_eSwxkrIz"
      },
      "source": [
        "X_test = np.reshape(age_test.ravel(), (len(age_test), 1))\r\n",
        "Y_test = np.reshape(heart_attack_test.ravel(), (len(heart_attack_test), 1))\r\n",
        "heart_attack_prediction = classifier.predict(X_test)\r\n",
        "predicted_values = []\r\n",
        "\r\n",
        "for i in heart_attack_prediction:\r\n",
        "  if i == 0:\r\n",
        "    predicted_values.append(\"no\")\r\n",
        "  else:\r\n",
        "    predicted_values.append(\"yes\")\r\n",
        "\r\n",
        "actual_values = []\r\n",
        "\r\n",
        "for i in Y_test.ravel():\r\n",
        "  if i == 0:\r\n",
        "    actual_values.append(\"no\")\r\n",
        "  else:\r\n",
        "    actual_values.append(\"yes\")"
      ],
      "execution_count": null,
      "outputs": []
    },
    {
      "cell_type": "code",
      "metadata": {
        "colab": {
          "base_uri": "https://localhost:8080/",
          "height": 313
        },
        "id": "ROVSaZBBnDAs",
        "outputId": "d91c9a98-4cd8-4cd5-aedd-6ab452adeb36"
      },
      "source": [
        "from sklearn.metrics import confusion_matrix\r\n",
        "\r\n",
        "labels = [\"yes\", \"no\"]\r\n",
        "cm = confusion_matrix(actual_values, predicted_values, labels)\r\n",
        "\r\n",
        "ax = plt.subplot()\r\n",
        "sns.heatmap(cm, annot=True, ax=ax)\r\n",
        "ax.set_xlabel(\"predicted\")\r\n",
        "ax.set_ylabel(\"actual\")\r\n",
        "ax.set_title(\"confusion matrix\")\r\n",
        "ax.xaxis.set_ticklabels(labels)\r\n",
        "ax.yaxis.set_ticklabels(labels)"
      ],
      "execution_count": null,
      "outputs": [
        {
          "output_type": "execute_result",
          "data": {
            "text/plain": [
              "[Text(0, 0.5, 'yes'), Text(0, 1.5, 'no')]"
            ]
          },
          "metadata": {
            "tags": []
          },
          "execution_count": 15
        },
        {
          "output_type": "display_data",
          "data": {
            "image/png": "[encoded data removed]",
            "text/plain": [
              "<Figure size 432x288 with 2 Axes>"
            ]
          },
          "metadata": {
            "tags": [],
            "needs_background": "light"
          }
        }
      ]
    },
    {
      "cell_type": "markdown",
      "metadata": {
        "id": "3MCgz56lolP7"
      },
      "source": [
        "36 people both actually got a heart attack and were predicted to get a heart attack. <br>\r\n",
        "16 people didn't get a heart attack and weren't predicted to get a heart attack either.<br>\r\n",
        "7 people got a heart attack but were not predicted to get a heart attack.<br>\r\n",
        "17 people didn't get a heart attack but they were predicted to get it."
      ]
    },
    {
      "cell_type": "code",
      "metadata": {
        "colab": {
          "base_uri": "https://localhost:8080/"
        },
        "id": "Zkq2NE8jpBGs",
        "outputId": "8ba3936f-73e3-41f3-9135-dfd49de744a4"
      },
      "source": [
        "accuracy = (36+16)/(36+16+17+7)\r\n",
        "print(accuracy)"
      ],
      "execution_count": null,
      "outputs": [
        {
          "output_type": "stream",
          "text": [
            "0.6842105263157895\n"
          ],
          "name": "stdout"
        }
      ]
    },
    {
      "cell_type": "code",
      "metadata": {
        "id": "OAZzysB8pXCi"
      },
      "source": [
        "factors = df[[\"age\", \"sex\", \"cp\", \"chol\", \"thalach\"]]\r\n",
        "heart_attack = df[\"target\"]\r\n",
        "\r\n",
        "factors_train, factors_test, heart_attack_train, heart_attack_test = train_test_split(factors, heart_attack, test_size=0.25, random_state=0)"
      ],
      "execution_count": null,
      "outputs": []
    },
    {
      "cell_type": "code",
      "metadata": {
        "id": "X9bAuuiDqkBF"
      },
      "source": [
        "from sklearn.preprocessing import StandardScaler\r\n",
        "sc_x = StandardScaler()\r\n",
        "factors_train = sc_x.fit_transform(factors_train)\r\n",
        "factors_test = sc_x.fit_transform(factors_test)"
      ],
      "execution_count": null,
      "outputs": []
    },
    {
      "cell_type": "code",
      "metadata": {
        "colab": {
          "base_uri": "https://localhost:8080/"
        },
        "id": "QQnCMYlRrCtn",
        "outputId": "c6b9c6e4-a1bf-40fd-90d3-2fa911cff35b"
      },
      "source": [
        "classifier2 = LogisticRegression(random_state=0)\r\n",
        "classifier2.fit(factors_train, heart_attack_train)"
      ],
      "execution_count": null,
      "outputs": [
        {
          "output_type": "execute_result",
          "data": {
            "text/plain": [
              "LogisticRegression(C=1.0, class_weight=None, dual=False, fit_intercept=True,\n",
              "                   intercept_scaling=1, l1_ratio=None, max_iter=100,\n",
              "                   multi_class='auto', n_jobs=None, penalty='l2',\n",
              "                   random_state=0, solver='lbfgs', tol=0.0001, verbose=0,\n",
              "                   warm_start=False)"
            ]
          },
          "metadata": {
            "tags": []
          },
          "execution_count": 21
        }
      ]
    },
    {
      "cell_type": "code",
      "metadata": {
        "id": "vt-MkqpErOqx"
      },
      "source": [
        "heart_attack_predictions_1 = classifier2.predict(factors_test)\r\n",
        "predicted_values_1 = []\r\n",
        "\r\n",
        "for i in heart_attack_predictions_1:\r\n",
        "  if i == 0:\r\n",
        "    predicted_values_1.append(\"no\")\r\n",
        "  else:\r\n",
        "    predicted_values_1.append(\"yes\")\r\n",
        "\r\n",
        "actual_values_1 = []\r\n",
        "\r\n",
        "for i in heart_attack_test.ravel():\r\n",
        "  if i == 0:\r\n",
        "    actual_values_1.append(\"no\")\r\n",
        "  else:\r\n",
        "    actual_values_1.append(\"yes\")"
      ],
      "execution_count": null,
      "outputs": []
    },
    {
      "cell_type": "code",
      "metadata": {
        "colab": {
          "base_uri": "https://localhost:8080/",
          "height": 313
        },
        "id": "TAqS-IEmr1Eu",
        "outputId": "883f618a-c228-4c77-fcc0-3640eb1f0467"
      },
      "source": [
        "labels = [\"yes\", \"no\"]\r\n",
        "cm = confusion_matrix(actual_values_1, predicted_values_1, labels)\r\n",
        "\r\n",
        "ax = plt.subplot()\r\n",
        "sns.heatmap(cm, annot=True, ax=ax)\r\n",
        "ax.set_xlabel(\"predicted\")\r\n",
        "ax.set_ylabel(\"actual\")\r\n",
        "ax.set_title(\"confusion matrix\")\r\n",
        "ax.xaxis.set_ticklabels(labels)\r\n",
        "ax.yaxis.set_ticklabels(labels)"
      ],
      "execution_count": null,
      "outputs": [
        {
          "output_type": "execute_result",
          "data": {
            "text/plain": [
              "[Text(0, 0.5, 'yes'), Text(0, 1.5, 'no')]"
            ]
          },
          "metadata": {
            "tags": []
          },
          "execution_count": 23
        },
        {
          "output_type": "display_data",
          "data": {
            "image/png": "[encoded data removed]",
            "text/plain": [
              "<Figure size 432x288 with 2 Axes>"
            ]
          },
          "metadata": {
            "tags": [],
            "needs_background": "light"
          }
        }
      ]
    },
    {
      "cell_type": "markdown",
      "metadata": {
        "id": "Imn4Tm3tsDfy"
      },
      "source": [
        "33 people both actually got a heart attack and were predicted to get a heart attack. <br>\r\n",
        "23 people didn't get a heart attack and weren't predicted to get a heart attack either.<br>\r\n",
        "10 people got a heart attack but were not predicted to get a heart attack.<br>\r\n",
        "10 people didn't get a heart attack but they were predicted to get it."
      ]
    },
    {
      "cell_type": "code",
      "metadata": {
        "colab": {
          "base_uri": "https://localhost:8080/"
        },
        "id": "hdhLN4gKsH_V",
        "outputId": "073f56b1-d692-49ad-9930-18403d370596"
      },
      "source": [
        "accuracy = (33+23)/(33+10+10+23)\r\n",
        "print(accuracy)"
      ],
      "execution_count": null,
      "outputs": [
        {
          "output_type": "stream",
          "text": [
            "0.7368421052631579\n"
          ],
          "name": "stdout"
        }
      ]
    }
  ]
}